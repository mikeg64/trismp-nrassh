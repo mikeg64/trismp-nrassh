{
 "cells": [
  {
   "cell_type": "code",
   "execution_count": 6,
   "metadata": {},
   "outputs": [
    {
     "name": "stderr",
     "output_type": "stream",
     "text": [
      "/home/mike/anaconda3/envs/pysac-27/lib/python2.7/site-packages/ipykernel_launcher.py:11: UserWarning: \n",
      "This call to matplotlib.use() has no effect because the backend has already\n",
      "been chosen; matplotlib.use() must be called *before* pylab, matplotlib.pyplot,\n",
      "or matplotlib.backends is imported for the first time.\n",
      "\n",
      "The backend was *originally* set to 'module://ipykernel.pylab.backend_inline' by the following code:\n",
      "  File \"/home/mike/anaconda3/envs/pysac-27/lib/python2.7/runpy.py\", line 174, in _run_module_as_main\n",
      "    \"__main__\", fname, loader, pkg_name)\n",
      "  File \"/home/mike/anaconda3/envs/pysac-27/lib/python2.7/runpy.py\", line 72, in _run_code\n",
      "    exec code in run_globals\n",
      "  File \"/home/mike/anaconda3/envs/pysac-27/lib/python2.7/site-packages/ipykernel_launcher.py\", line 16, in <module>\n",
      "    app.launch_new_instance()\n",
      "  File \"/home/mike/anaconda3/envs/pysac-27/lib/python2.7/site-packages/traitlets/config/application.py\", line 658, in launch_instance\n",
      "    app.start()\n",
      "  File \"/home/mike/anaconda3/envs/pysac-27/lib/python2.7/site-packages/ipykernel/kernelapp.py\", line 499, in start\n",
      "    self.io_loop.start()\n",
      "  File \"/home/mike/anaconda3/envs/pysac-27/lib/python2.7/site-packages/tornado/ioloop.py\", line 1073, in start\n",
      "    handler_func(fd_obj, events)\n",
      "  File \"/home/mike/anaconda3/envs/pysac-27/lib/python2.7/site-packages/tornado/stack_context.py\", line 300, in null_wrapper\n",
      "    return fn(*args, **kwargs)\n",
      "  File \"/home/mike/anaconda3/envs/pysac-27/lib/python2.7/site-packages/zmq/eventloop/zmqstream.py\", line 450, in _handle_events\n",
      "    self._handle_recv()\n",
      "  File \"/home/mike/anaconda3/envs/pysac-27/lib/python2.7/site-packages/zmq/eventloop/zmqstream.py\", line 480, in _handle_recv\n",
      "    self._run_callback(callback, msg)\n",
      "  File \"/home/mike/anaconda3/envs/pysac-27/lib/python2.7/site-packages/zmq/eventloop/zmqstream.py\", line 432, in _run_callback\n",
      "    callback(*args, **kwargs)\n",
      "  File \"/home/mike/anaconda3/envs/pysac-27/lib/python2.7/site-packages/tornado/stack_context.py\", line 300, in null_wrapper\n",
      "    return fn(*args, **kwargs)\n",
      "  File \"/home/mike/anaconda3/envs/pysac-27/lib/python2.7/site-packages/ipykernel/kernelbase.py\", line 283, in dispatcher\n",
      "    return self.dispatch_shell(stream, msg)\n",
      "  File \"/home/mike/anaconda3/envs/pysac-27/lib/python2.7/site-packages/ipykernel/kernelbase.py\", line 233, in dispatch_shell\n",
      "    handler(stream, idents, msg)\n",
      "  File \"/home/mike/anaconda3/envs/pysac-27/lib/python2.7/site-packages/ipykernel/kernelbase.py\", line 399, in execute_request\n",
      "    user_expressions, allow_stdin)\n",
      "  File \"/home/mike/anaconda3/envs/pysac-27/lib/python2.7/site-packages/ipykernel/ipkernel.py\", line 208, in do_execute\n",
      "    res = shell.run_cell(code, store_history=store_history, silent=silent)\n",
      "  File \"/home/mike/anaconda3/envs/pysac-27/lib/python2.7/site-packages/ipykernel/zmqshell.py\", line 537, in run_cell\n",
      "    return super(ZMQInteractiveShell, self).run_cell(*args, **kwargs)\n",
      "  File \"/home/mike/anaconda3/envs/pysac-27/lib/python2.7/site-packages/IPython/core/interactiveshell.py\", line 2714, in run_cell\n",
      "    interactivity=interactivity, compiler=compiler, result=result)\n",
      "  File \"/home/mike/anaconda3/envs/pysac-27/lib/python2.7/site-packages/IPython/core/interactiveshell.py\", line 2824, in run_ast_nodes\n",
      "    if self.run_code(code, result):\n",
      "  File \"/home/mike/anaconda3/envs/pysac-27/lib/python2.7/site-packages/IPython/core/interactiveshell.py\", line 2878, in run_code\n",
      "    exec(code_obj, self.user_global_ns, self.user_ns)\n",
      "  File \"<ipython-input-1-deafe50b63ef>\", line 14, in <module>\n",
      "    get_ipython().magic(u'matplotlib inline')\n",
      "  File \"/home/mike/anaconda3/envs/pysac-27/lib/python2.7/site-packages/IPython/core/interactiveshell.py\", line 2160, in magic\n",
      "    return self.run_line_magic(magic_name, magic_arg_s)\n",
      "  File \"/home/mike/anaconda3/envs/pysac-27/lib/python2.7/site-packages/IPython/core/interactiveshell.py\", line 2081, in run_line_magic\n",
      "    result = fn(*args,**kwargs)\n",
      "  File \"<decorator-gen-105>\", line 2, in matplotlib\n",
      "  File \"/home/mike/anaconda3/envs/pysac-27/lib/python2.7/site-packages/IPython/core/magic.py\", line 188, in <lambda>\n",
      "    call = lambda f, *a, **k: f(*a, **k)\n",
      "  File \"/home/mike/anaconda3/envs/pysac-27/lib/python2.7/site-packages/IPython/core/magics/pylab.py\", line 100, in matplotlib\n",
      "    gui, backend = self.shell.enable_matplotlib(args.gui)\n",
      "  File \"/home/mike/anaconda3/envs/pysac-27/lib/python2.7/site-packages/IPython/core/interactiveshell.py\", line 2966, in enable_matplotlib\n",
      "    pt.activate_matplotlib(backend)\n",
      "  File \"/home/mike/anaconda3/envs/pysac-27/lib/python2.7/site-packages/IPython/core/pylabtools.py\", line 315, in activate_matplotlib\n",
      "    matplotlib.pyplot.switch_backend(backend)\n",
      "  File \"/home/mike/anaconda3/envs/pysac-27/lib/python2.7/site-packages/matplotlib/pyplot.py\", line 233, in switch_backend\n",
      "    _backend_mod, new_figure_manager, draw_if_interactive, _show = pylab_setup()\n",
      "  File \"/home/mike/anaconda3/envs/pysac-27/lib/python2.7/site-packages/matplotlib/backends/__init__.py\", line 62, in pylab_setup\n",
      "    [backend_name], 0)\n",
      "  File \"/home/mike/anaconda3/envs/pysac-27/lib/python2.7/site-packages/ipykernel/pylab/backend_inline.py\", line 169, in <module>\n",
      "    _enable_matplotlib_integration()\n",
      "  File \"/home/mike/anaconda3/envs/pysac-27/lib/python2.7/site-packages/ipykernel/pylab/backend_inline.py\", line 159, in _enable_matplotlib_integration\n",
      "    activate_matplotlib(backend)\n",
      "  File \"/home/mike/anaconda3/envs/pysac-27/lib/python2.7/site-packages/IPython/core/pylabtools.py\", line 315, in activate_matplotlib\n",
      "    matplotlib.pyplot.switch_backend(backend)\n",
      "  File \"/home/mike/anaconda3/envs/pysac-27/lib/python2.7/site-packages/matplotlib/pyplot.py\", line 231, in switch_backend\n",
      "    matplotlib.use(newbackend, warn=False, force=True)\n",
      "  File \"/home/mike/anaconda3/envs/pysac-27/lib/python2.7/site-packages/matplotlib/__init__.py\", line 1422, in use\n",
      "    reload(sys.modules['matplotlib.backends'])\n",
      "  File \"/home/mike/anaconda3/envs/pysac-27/lib/python2.7/site-packages/matplotlib/backends/__init__.py\", line 16, in <module>\n",
      "    line for line in traceback.format_stack()\n",
      "\n",
      "\n",
      "  # This is added back by InteractiveShellApp.init_path()\n"
     ]
    }
   ],
   "source": [
    "import glob\n",
    "import h5py as h5\n",
    "import numpy as np\n",
    "import os\n",
    "import sys\n",
    "\n",
    "\n",
    "\n",
    "\n",
    "from matplotlib import use\n",
    "use('Agg')\n",
    "from matplotlib import pyplot\n",
    "\n",
    "%matplotlib inline"
   ]
  },
  {
   "cell_type": "code",
   "execution_count": 10,
   "metadata": {},
   "outputs": [],
   "source": [
    "basedir='/mnt/xdrive/Users/cs1mkg/temp/' #For linux desktop remote mount to research data store\n",
    "#basedir='/shared/sp2rc2/Users/cs1mkg/temp/' #For automounted research data storage from ShARC\n",
    "\n",
    "files=sorted(glob.glob(basedir+'output-th85ph90/flds.tot*'))\n",
    "prtfiles=sorted(glob.glob(basedir+'output-th85ph90/prtl.tot*'))\n",
    "# go through the files\n",
    "start=0\n",
    "end=len(files)\n",
    "interval=5\n",
    "global d\n",
    "d=[]"
   ]
  },
  {
   "cell_type": "code",
   "execution_count": 11,
   "metadata": {},
   "outputs": [
    {
     "name": "stdout",
     "output_type": "stream",
     "text": [
      "reading /mnt/xdrive/Users/cs1mkg/temp/output-th85ph90/flds.tot.001\n",
      "reading /mnt/xdrive/Users/cs1mkg/temp/output-th85ph90/flds.tot.006\n",
      "reading /mnt/xdrive/Users/cs1mkg/temp/output-th85ph90/flds.tot.011\n",
      "reading /mnt/xdrive/Users/cs1mkg/temp/output-th85ph90/flds.tot.016\n",
      "reading /mnt/xdrive/Users/cs1mkg/temp/output-th85ph90/flds.tot.021\n",
      "reading /mnt/xdrive/Users/cs1mkg/temp/output-th85ph90/flds.tot.026\n",
      "reading /mnt/xdrive/Users/cs1mkg/temp/output-th85ph90/flds.tot.031\n",
      "reading /mnt/xdrive/Users/cs1mkg/temp/output-th85ph90/flds.tot.036\n",
      "reading /mnt/xdrive/Users/cs1mkg/temp/output-th85ph90/flds.tot.041\n",
      "reading /mnt/xdrive/Users/cs1mkg/temp/output-th85ph90/flds.tot.046\n",
      "reading /mnt/xdrive/Users/cs1mkg/temp/output-th85ph90/flds.tot.051\n",
      "reading /mnt/xdrive/Users/cs1mkg/temp/output-th85ph90/flds.tot.056\n",
      "reading /mnt/xdrive/Users/cs1mkg/temp/output-th85ph90/flds.tot.061\n",
      "reading /mnt/xdrive/Users/cs1mkg/temp/output-th85ph90/flds.tot.066\n",
      "reading /mnt/xdrive/Users/cs1mkg/temp/output-th85ph90/flds.tot.071\n",
      "reading /mnt/xdrive/Users/cs1mkg/temp/output-th85ph90/flds.tot.076\n",
      "reading /mnt/xdrive/Users/cs1mkg/temp/output-th85ph90/flds.tot.081\n",
      "reading /mnt/xdrive/Users/cs1mkg/temp/output-th85ph90/flds.tot.086\n",
      "reading /mnt/xdrive/Users/cs1mkg/temp/output-th85ph90/flds.tot.091\n",
      "reading /mnt/xdrive/Users/cs1mkg/temp/output-th85ph90/flds.tot.096\n",
      "reading /mnt/xdrive/Users/cs1mkg/temp/output-th85ph90/flds.tot.101\n",
      "reading /mnt/xdrive/Users/cs1mkg/temp/output-th85ph90/flds.tot.106\n",
      "reading /mnt/xdrive/Users/cs1mkg/temp/output-th85ph90/flds.tot.111\n",
      "reading /mnt/xdrive/Users/cs1mkg/temp/output-th85ph90/flds.tot.116\n",
      "reading /mnt/xdrive/Users/cs1mkg/temp/output-th85ph90/flds.tot.121\n",
      "reading /mnt/xdrive/Users/cs1mkg/temp/output-th85ph90/flds.tot.126\n",
      "reading /mnt/xdrive/Users/cs1mkg/temp/output-th85ph90/flds.tot.131\n",
      "reading /mnt/xdrive/Users/cs1mkg/temp/output-th85ph90/flds.tot.136\n",
      "reading /mnt/xdrive/Users/cs1mkg/temp/output-th85ph90/flds.tot.141\n",
      "reading /mnt/xdrive/Users/cs1mkg/temp/output-th85ph90/flds.tot.146\n",
      "reading /mnt/xdrive/Users/cs1mkg/temp/output-th85ph90/flds.tot.151\n",
      "reading /mnt/xdrive/Users/cs1mkg/temp/output-th85ph90/flds.tot.156\n",
      "reading /mnt/xdrive/Users/cs1mkg/temp/output-th85ph90/flds.tot.161\n",
      "reading /mnt/xdrive/Users/cs1mkg/temp/output-th85ph90/flds.tot.166\n",
      "reading /mnt/xdrive/Users/cs1mkg/temp/output-th85ph90/flds.tot.171\n",
      "reading /mnt/xdrive/Users/cs1mkg/temp/output-th85ph90/flds.tot.176\n",
      "reading /mnt/xdrive/Users/cs1mkg/temp/output-th85ph90/flds.tot.181\n",
      "reading /mnt/xdrive/Users/cs1mkg/temp/output-th85ph90/flds.tot.186\n",
      "reading /mnt/xdrive/Users/cs1mkg/temp/output-th85ph90/flds.tot.191\n",
      "reading /mnt/xdrive/Users/cs1mkg/temp/output-th85ph90/flds.tot.196\n"
     ]
    }
   ],
   "source": [
    "for filenum in range(start,end,interval):\n",
    "    print \"reading\",files[filenum]\n",
    "    f = h5.File(files[filenum],\"r\")\n",
    "    f1 = h5.File(prtfiles[filenum],\"r\")\n",
    "    dict={'bz':np.squeeze(f['bz']),'dens':np.squeeze(f['dens']),\n",
    "          'pxi':np.squeeze(f1['ui']),'pyi':np.squeeze(f1['vi']),\n",
    "          'pzi':np.squeeze(f1['wi']),'pxe':np.squeeze(f1['ue']),\n",
    "          'pye':np.squeeze(f1['ve']),'pze':np.squeeze(f1['we']),\n",
    "          'xi':np.squeeze(f1['xi']),'xe':np.squeeze(f1['xe'])}    \n",
    "    d.append(dict)"
   ]
  },
  {
   "cell_type": "code",
   "execution_count": 4,
   "metadata": {},
   "outputs": [
    {
     "name": "stdout",
     "output_type": "stream",
     "text": [
      "5034\n"
     ]
    }
   ],
   "source": [
    "print len(dict['pxi'])"
   ]
  },
  {
   "cell_type": "code",
   "execution_count": 12,
   "metadata": {},
   "outputs": [
    {
     "name": "stdout",
     "output_type": "stream",
     "text": [
      "40\n",
      "(130, 652)\n"
     ]
    }
   ],
   "source": [
    "print len(d)\n",
    "de=d[39]\n",
    "rho=de['dens']\n",
    "bz=de['bz']\n",
    "print np.shape(rho)"
   ]
  },
  {
   "cell_type": "code",
   "execution_count": 71,
   "metadata": {},
   "outputs": [
    {
     "data": {
      "text/plain": [
       "<matplotlib.contour.QuadContourSet at 0x7f6ab8c45cd0>"
      ]
     },
     "execution_count": 71,
     "metadata": {},
     "output_type": "execute_result"
    },
    {
     "data": {
      "image/png": "[encoded data removed]",
      "text/plain": [
       "<Figure size 432x288 with 2 Axes>"
      ]
     },
     "metadata": {
      "needs_background": "light"
     },
     "output_type": "display_data"
    }
   ],
   "source": [
    "#\n",
    "# Plot density field\n",
    "#\n",
    "fig1,ax1 = pyplot.subplots(1,2,num=1)\n",
    "\n",
    "#ax1[0].imshow(rho)\n",
    "#ax1[1].imshow(bz)\n",
    "\n",
    "ax1[0].contourf(d[it]['bz'])\n",
    "ax1[1].contourf(d[it]['dens'])"
   ]
  },
  {
   "cell_type": "code",
   "execution_count": 14,
   "metadata": {},
   "outputs": [
    {
     "data": {
      "image/png": "[encoded data removed]",
      "text/plain": [
       "<Figure size 432x288 with 2 Axes>"
      ]
     },
     "metadata": {
      "needs_background": "light"
     },
     "output_type": "display_data"
    }
   ],
   "source": [
    "fig2, ax2 = pyplot.subplots()\n",
    "itstep=1\n",
    "it=20\n",
    "\n",
    "cs = ax2.contourf(d[it]['bz'])\n",
    "cbar = fig2.colorbar(cs)\n",
    "\n",
    "pyplot.show()  "
   ]
  },
  {
   "cell_type": "code",
   "execution_count": 40,
   "metadata": {},
   "outputs": [],
   "source": [
    "#compute average density over x-direction\n",
    "rhoav=np.zeros([652])\n",
    "dtemp=np.zeros([130])\n",
    "it=39\n",
    "dens=d[it]['dens']\n",
    "for ix in range(0,651,1):\n",
    "    for iy in range(0,129,1):\n",
    "        dtemp[iy]=dens[iy][ix]    \n",
    "    rhoav[ix]=np.mean(dtemp)"
   ]
  },
  {
   "cell_type": "code",
   "execution_count": 41,
   "metadata": {},
   "outputs": [
    {
     "name": "stdout",
     "output_type": "stream",
     "text": [
      "(130, 652)\n",
      "(130,)\n",
      "(652,)\n",
      "[  0.00000000e+00   0.00000000e+00   0.00000000e+00   0.00000000e+00\n",
      "   0.00000000e+00   0.00000000e+00   0.00000000e+00   0.00000000e+00\n",
      "   1.35156194e+01   4.40367511e+01   7.83739637e+01   8.76483936e+01\n",
      "   9.45037261e+01   9.84543520e+01   1.00328667e+02   1.00896107e+02\n",
      "   9.98601195e+01   9.67732233e+01   9.29250317e+01   8.83460533e+01\n",
      "   8.36416339e+01   7.88889632e+01   7.43964049e+01   6.92845910e+01\n",
      "   6.42335307e+01   5.95815455e+01   5.54064017e+01   5.10339035e+01\n",
      "   4.69773466e+01   4.29329551e+01   3.94143654e+01   3.58763349e+01\n",
      "   3.24467134e+01   2.94400746e+01   2.66133530e+01   2.37124406e+01\n",
      "   2.13591530e+01   1.88087164e+01   1.63540594e+01   1.43107505e+01\n",
      "   1.24937301e+01   1.06240635e+01   8.91664993e+00   7.49969261e+00\n",
      "   6.31490370e+00   5.16167682e+00   4.19231129e+00   3.37703037e+00\n",
      "   2.68700264e+00   1.95318928e+00   1.35501151e+00   9.41861194e-01\n",
      "   6.35026380e-01   3.88252628e-01   2.00433385e-01   9.69322258e-02\n",
      "   4.24989168e-02   1.66019614e-02   2.46075140e-03   0.00000000e+00\n",
      "   0.00000000e+00   0.00000000e+00   0.00000000e+00   0.00000000e+00\n",
      "   0.00000000e+00   0.00000000e+00   0.00000000e+00   0.00000000e+00\n",
      "   0.00000000e+00   0.00000000e+00   0.00000000e+00   0.00000000e+00\n",
      "   0.00000000e+00   0.00000000e+00   0.00000000e+00   0.00000000e+00\n",
      "   0.00000000e+00   0.00000000e+00   0.00000000e+00   0.00000000e+00\n",
      "   0.00000000e+00   0.00000000e+00   0.00000000e+00   0.00000000e+00\n",
      "   0.00000000e+00   0.00000000e+00   0.00000000e+00   0.00000000e+00\n",
      "   0.00000000e+00   0.00000000e+00   0.00000000e+00   0.00000000e+00\n",
      "   0.00000000e+00   0.00000000e+00   0.00000000e+00   0.00000000e+00\n",
      "   0.00000000e+00   0.00000000e+00   0.00000000e+00   0.00000000e+00\n",
      "   0.00000000e+00   0.00000000e+00   0.00000000e+00   0.00000000e+00\n",
      "   0.00000000e+00   0.00000000e+00   0.00000000e+00   0.00000000e+00\n",
      "   0.00000000e+00   0.00000000e+00   0.00000000e+00   0.00000000e+00\n",
      "   0.00000000e+00   0.00000000e+00   0.00000000e+00   0.00000000e+00\n",
      "   0.00000000e+00   0.00000000e+00   0.00000000e+00   0.00000000e+00\n",
      "   0.00000000e+00   0.00000000e+00   0.00000000e+00   0.00000000e+00\n",
      "   0.00000000e+00   0.00000000e+00   0.00000000e+00   0.00000000e+00\n",
      "   0.00000000e+00   0.00000000e+00   0.00000000e+00   0.00000000e+00\n",
      "   0.00000000e+00   0.00000000e+00   0.00000000e+00   0.00000000e+00\n",
      "   0.00000000e+00   0.00000000e+00   0.00000000e+00   0.00000000e+00\n",
      "   0.00000000e+00   0.00000000e+00   0.00000000e+00   0.00000000e+00\n",
      "   0.00000000e+00   0.00000000e+00   0.00000000e+00   0.00000000e+00\n",
      "   0.00000000e+00   0.00000000e+00   0.00000000e+00   0.00000000e+00\n",
      "   0.00000000e+00   0.00000000e+00   0.00000000e+00   0.00000000e+00\n",
      "   0.00000000e+00   0.00000000e+00   0.00000000e+00   0.00000000e+00\n",
      "   0.00000000e+00   0.00000000e+00   0.00000000e+00   0.00000000e+00\n",
      "   0.00000000e+00   0.00000000e+00   0.00000000e+00   0.00000000e+00\n",
      "   0.00000000e+00   0.00000000e+00   0.00000000e+00   0.00000000e+00\n",
      "   0.00000000e+00   0.00000000e+00   0.00000000e+00   0.00000000e+00\n",
      "   0.00000000e+00   0.00000000e+00   0.00000000e+00   0.00000000e+00\n",
      "   0.00000000e+00   0.00000000e+00   0.00000000e+00   0.00000000e+00\n",
      "   0.00000000e+00   0.00000000e+00   0.00000000e+00   0.00000000e+00\n",
      "   0.00000000e+00   0.00000000e+00   0.00000000e+00   0.00000000e+00\n",
      "   0.00000000e+00   0.00000000e+00   0.00000000e+00   0.00000000e+00\n",
      "   0.00000000e+00   0.00000000e+00   0.00000000e+00   0.00000000e+00\n",
      "   0.00000000e+00   0.00000000e+00   0.00000000e+00   0.00000000e+00\n",
      "   0.00000000e+00   0.00000000e+00   0.00000000e+00   0.00000000e+00\n",
      "   0.00000000e+00   0.00000000e+00   0.00000000e+00   0.00000000e+00\n",
      "   0.00000000e+00   0.00000000e+00   0.00000000e+00   0.00000000e+00\n",
      "   0.00000000e+00   0.00000000e+00   0.00000000e+00   0.00000000e+00\n",
      "   0.00000000e+00   0.00000000e+00   0.00000000e+00   0.00000000e+00\n",
      "   0.00000000e+00   0.00000000e+00   0.00000000e+00   0.00000000e+00\n",
      "   0.00000000e+00   0.00000000e+00   0.00000000e+00   0.00000000e+00\n",
      "   0.00000000e+00   0.00000000e+00   0.00000000e+00   0.00000000e+00\n",
      "   0.00000000e+00   0.00000000e+00   0.00000000e+00   0.00000000e+00\n",
      "   0.00000000e+00   0.00000000e+00   0.00000000e+00   0.00000000e+00\n",
      "   0.00000000e+00   0.00000000e+00   0.00000000e+00   0.00000000e+00\n",
      "   0.00000000e+00   0.00000000e+00   0.00000000e+00   0.00000000e+00\n",
      "   0.00000000e+00   0.00000000e+00   0.00000000e+00   0.00000000e+00\n",
      "   0.00000000e+00   0.00000000e+00   0.00000000e+00   0.00000000e+00\n",
      "   0.00000000e+00   0.00000000e+00   0.00000000e+00   0.00000000e+00\n",
      "   0.00000000e+00   0.00000000e+00   0.00000000e+00   0.00000000e+00\n",
      "   0.00000000e+00   0.00000000e+00   0.00000000e+00   0.00000000e+00\n",
      "   0.00000000e+00   0.00000000e+00   0.00000000e+00   0.00000000e+00\n",
      "   0.00000000e+00   0.00000000e+00   0.00000000e+00   0.00000000e+00\n",
      "   0.00000000e+00   0.00000000e+00   0.00000000e+00   0.00000000e+00\n",
      "   0.00000000e+00   0.00000000e+00   0.00000000e+00   0.00000000e+00\n",
      "   0.00000000e+00   0.00000000e+00   0.00000000e+00   0.00000000e+00\n",
      "   0.00000000e+00   0.00000000e+00   0.00000000e+00   0.00000000e+00\n",
      "   0.00000000e+00   0.00000000e+00   0.00000000e+00   0.00000000e+00\n",
      "   0.00000000e+00   0.00000000e+00   0.00000000e+00   0.00000000e+00\n",
      "   0.00000000e+00   0.00000000e+00   0.00000000e+00   0.00000000e+00\n",
      "   0.00000000e+00   0.00000000e+00   0.00000000e+00   0.00000000e+00\n",
      "   0.00000000e+00   0.00000000e+00   0.00000000e+00   0.00000000e+00\n",
      "   0.00000000e+00   0.00000000e+00   0.00000000e+00   0.00000000e+00\n",
      "   0.00000000e+00   0.00000000e+00   0.00000000e+00   0.00000000e+00\n",
      "   0.00000000e+00   0.00000000e+00   0.00000000e+00   0.00000000e+00\n",
      "   0.00000000e+00   0.00000000e+00   0.00000000e+00   0.00000000e+00\n",
      "   0.00000000e+00   0.00000000e+00   0.00000000e+00   0.00000000e+00\n",
      "   0.00000000e+00   0.00000000e+00   0.00000000e+00   0.00000000e+00\n",
      "   0.00000000e+00   0.00000000e+00   0.00000000e+00   0.00000000e+00\n",
      "   0.00000000e+00   0.00000000e+00   0.00000000e+00   0.00000000e+00\n",
      "   0.00000000e+00   0.00000000e+00   0.00000000e+00   0.00000000e+00\n",
      "   0.00000000e+00   0.00000000e+00   0.00000000e+00   0.00000000e+00\n",
      "   0.00000000e+00   0.00000000e+00   0.00000000e+00   0.00000000e+00\n",
      "   0.00000000e+00   0.00000000e+00   0.00000000e+00   0.00000000e+00\n",
      "   0.00000000e+00   0.00000000e+00   0.00000000e+00   0.00000000e+00\n",
      "   0.00000000e+00   0.00000000e+00   0.00000000e+00   0.00000000e+00\n",
      "   0.00000000e+00   0.00000000e+00   0.00000000e+00   0.00000000e+00\n",
      "   0.00000000e+00   0.00000000e+00   0.00000000e+00   0.00000000e+00\n",
      "   0.00000000e+00   0.00000000e+00   0.00000000e+00   0.00000000e+00\n",
      "   0.00000000e+00   0.00000000e+00   0.00000000e+00   0.00000000e+00\n",
      "   0.00000000e+00   0.00000000e+00   0.00000000e+00   0.00000000e+00\n",
      "   0.00000000e+00   0.00000000e+00   0.00000000e+00   0.00000000e+00\n",
      "   0.00000000e+00   0.00000000e+00   0.00000000e+00   0.00000000e+00\n",
      "   0.00000000e+00   0.00000000e+00   0.00000000e+00   0.00000000e+00\n",
      "   0.00000000e+00   0.00000000e+00   0.00000000e+00   0.00000000e+00\n",
      "   0.00000000e+00   0.00000000e+00   0.00000000e+00   0.00000000e+00\n",
      "   0.00000000e+00   0.00000000e+00   0.00000000e+00   0.00000000e+00\n",
      "   0.00000000e+00   0.00000000e+00   0.00000000e+00   0.00000000e+00\n",
      "   0.00000000e+00   0.00000000e+00   0.00000000e+00   0.00000000e+00\n",
      "   0.00000000e+00   0.00000000e+00   0.00000000e+00   0.00000000e+00\n",
      "   0.00000000e+00   0.00000000e+00   0.00000000e+00   0.00000000e+00\n",
      "   0.00000000e+00   0.00000000e+00   0.00000000e+00   0.00000000e+00\n",
      "   0.00000000e+00   0.00000000e+00   0.00000000e+00   0.00000000e+00\n",
      "   0.00000000e+00   0.00000000e+00   0.00000000e+00   0.00000000e+00\n",
      "   0.00000000e+00   0.00000000e+00   0.00000000e+00   0.00000000e+00\n",
      "   0.00000000e+00   0.00000000e+00   0.00000000e+00   0.00000000e+00\n",
      "   0.00000000e+00   0.00000000e+00   0.00000000e+00   0.00000000e+00\n",
      "   0.00000000e+00   0.00000000e+00   0.00000000e+00   0.00000000e+00\n",
      "   0.00000000e+00   0.00000000e+00   0.00000000e+00   0.00000000e+00\n",
      "   0.00000000e+00   0.00000000e+00   0.00000000e+00   0.00000000e+00\n",
      "   0.00000000e+00   0.00000000e+00   0.00000000e+00   0.00000000e+00\n",
      "   0.00000000e+00   0.00000000e+00   0.00000000e+00   0.00000000e+00\n",
      "   0.00000000e+00   0.00000000e+00   0.00000000e+00   0.00000000e+00\n",
      "   0.00000000e+00   0.00000000e+00   0.00000000e+00   0.00000000e+00\n",
      "   0.00000000e+00   0.00000000e+00   0.00000000e+00   0.00000000e+00\n",
      "   0.00000000e+00   0.00000000e+00   0.00000000e+00   0.00000000e+00\n",
      "   0.00000000e+00   0.00000000e+00   0.00000000e+00   0.00000000e+00\n",
      "   0.00000000e+00   0.00000000e+00   0.00000000e+00   0.00000000e+00\n",
      "   0.00000000e+00   0.00000000e+00   0.00000000e+00   0.00000000e+00\n",
      "   0.00000000e+00   0.00000000e+00   0.00000000e+00   0.00000000e+00\n",
      "   0.00000000e+00   0.00000000e+00   0.00000000e+00   0.00000000e+00\n",
      "   0.00000000e+00   0.00000000e+00   0.00000000e+00   0.00000000e+00\n",
      "   0.00000000e+00   0.00000000e+00   0.00000000e+00   0.00000000e+00\n",
      "   0.00000000e+00   0.00000000e+00   0.00000000e+00   0.00000000e+00\n",
      "   0.00000000e+00   0.00000000e+00   0.00000000e+00   0.00000000e+00\n",
      "   0.00000000e+00   0.00000000e+00   0.00000000e+00   0.00000000e+00\n",
      "   0.00000000e+00   0.00000000e+00   0.00000000e+00   0.00000000e+00\n",
      "   0.00000000e+00   0.00000000e+00   0.00000000e+00   0.00000000e+00\n",
      "   0.00000000e+00   0.00000000e+00   0.00000000e+00   0.00000000e+00\n",
      "   0.00000000e+00   0.00000000e+00   0.00000000e+00   0.00000000e+00\n",
      "   0.00000000e+00   0.00000000e+00   0.00000000e+00   0.00000000e+00\n",
      "   0.00000000e+00   0.00000000e+00   0.00000000e+00   0.00000000e+00\n",
      "   0.00000000e+00   0.00000000e+00   0.00000000e+00   0.00000000e+00\n",
      "   0.00000000e+00   0.00000000e+00   0.00000000e+00   0.00000000e+00\n",
      "   0.00000000e+00   0.00000000e+00   0.00000000e+00   0.00000000e+00\n",
      "   0.00000000e+00   0.00000000e+00   0.00000000e+00   0.00000000e+00\n",
      "   0.00000000e+00   0.00000000e+00   0.00000000e+00   0.00000000e+00\n",
      "   0.00000000e+00   0.00000000e+00   0.00000000e+00   0.00000000e+00\n",
      "   0.00000000e+00   0.00000000e+00   0.00000000e+00   0.00000000e+00\n",
      "   0.00000000e+00   0.00000000e+00   0.00000000e+00   0.00000000e+00\n",
      "   0.00000000e+00   0.00000000e+00   0.00000000e+00   0.00000000e+00\n",
      "   0.00000000e+00   0.00000000e+00   0.00000000e+00   0.00000000e+00\n",
      "   0.00000000e+00   0.00000000e+00   0.00000000e+00   0.00000000e+00\n",
      "   0.00000000e+00   0.00000000e+00   0.00000000e+00   0.00000000e+00\n",
      "   0.00000000e+00   0.00000000e+00   0.00000000e+00   0.00000000e+00\n",
      "   0.00000000e+00   0.00000000e+00   0.00000000e+00   0.00000000e+00\n",
      "   0.00000000e+00   0.00000000e+00   0.00000000e+00   0.00000000e+00\n",
      "   0.00000000e+00   0.00000000e+00   0.00000000e+00   0.00000000e+00\n",
      "   0.00000000e+00   0.00000000e+00   0.00000000e+00   0.00000000e+00\n",
      "   0.00000000e+00   0.00000000e+00   0.00000000e+00   0.00000000e+00\n",
      "   0.00000000e+00   0.00000000e+00   0.00000000e+00   0.00000000e+00\n",
      "   0.00000000e+00   0.00000000e+00   0.00000000e+00   0.00000000e+00\n",
      "   0.00000000e+00   0.00000000e+00   0.00000000e+00   0.00000000e+00\n",
      "   0.00000000e+00   0.00000000e+00   0.00000000e+00   0.00000000e+00\n",
      "   0.00000000e+00   0.00000000e+00   0.00000000e+00   0.00000000e+00\n",
      "   0.00000000e+00   3.58598933e-01   3.58598933e-01   0.00000000e+00]\n",
      "(0.0, 0.0)\n"
     ]
    }
   ],
   "source": [
    "print(np.shape(dens))\n",
    "#dtemp=dens[0][651]\n",
    "print(np.shape(dtemp))\n",
    "print(np.shape(rhoav))\n",
    "print(rhoav)\n",
    "print(rhoav[0],rhoav[651])"
   ]
  },
  {
   "cell_type": "code",
   "execution_count": 45,
   "metadata": {},
   "outputs": [],
   "source": [
    "#compute mean density for each time step\n",
    "itstep=1\n",
    "it=20\n",
    "rhot=np.zeros([40,652])\n",
    "for it in range(0,39,itstep):\n",
    "    dens=d[it]['dens']\n",
    "    rhot[it]=dens[64][:]"
   ]
  },
  {
   "cell_type": "code",
   "execution_count": 43,
   "metadata": {},
   "outputs": [],
   "source": [
    "#compute average density over y-direction for each time step\n",
    "rhoavit=np.zeros([652,40])\n",
    "dtemp=np.zeros([130])\n",
    "\n",
    "for it in range(0,39,itstep):\n",
    "    dens=d[it]['dens']\n",
    "    for ix in range(0,651,1):\n",
    "        for iy in range(0,129,1):\n",
    "            dtemp[iy]=dens[iy][ix]    \n",
    "        rhoavit[ix][it]=np.mean(dtemp)\n",
    "        \n",
    "        "
   ]
  },
  {
   "cell_type": "code",
   "execution_count": 50,
   "metadata": {},
   "outputs": [
    {
     "name": "stdout",
     "output_type": "stream",
     "text": [
      "(40, 652)\n"
     ]
    }
   ],
   "source": [
    "print(np.shape(rhot))"
   ]
  },
  {
   "cell_type": "code",
   "execution_count": 48,
   "metadata": {},
   "outputs": [
    {
     "data": {
      "image/png": "[encoded data removed]",
      "text/plain": [
       "<Figure size 432x288 with 2 Axes>"
      ]
     },
     "metadata": {
      "needs_background": "light"
     },
     "output_type": "display_data"
    }
   ],
   "source": [
    "fig3, ax3 = pyplot.subplots()\n",
    "itstep=1\n",
    "it=20\n",
    "\n",
    "cs = ax3.contourf(rhot)\n",
    "cbar = fig3.colorbar(cs)\n",
    "\n",
    "pyplot.show()  "
   ]
  },
  {
   "cell_type": "code",
   "execution_count": 84,
   "metadata": {},
   "outputs": [
    {
     "data": {
      "text/plain": [
       "<matplotlib.contour.QuadContourSet at 0x7f6ab6f64390>"
      ]
     },
     "execution_count": 84,
     "metadata": {},
     "output_type": "execute_result"
    },
    {
     "data": {
      "image/png": "[encoded data removed]",
      "text/plain": [
       "<Figure size 432x288 with 4 Axes>"
      ]
     },
     "metadata": {
      "needs_background": "light"
     },
     "output_type": "display_data"
    }
   ],
   "source": [
    "#\n",
    "# Plot density field\n",
    "#\n",
    "it=39\n",
    "fig4,ax4 = pyplot.subplots(2,2,num=1)\n",
    "\n",
    "#ax1[0].imshow(rho)\n",
    "#ax1[1].imshow(bz)\n",
    "\n",
    "ax4[0][0].contourf(d[it]['bz'])\n",
    "ax4[0][1].contourf(d[it]['dens'])\n",
    "ax4[1][0].plot(rhoav)\n",
    "ax4[1][1].contourf(rhoavit)"
   ]
  },
  {
   "cell_type": "code",
   "execution_count": null,
   "metadata": {},
   "outputs": [],
   "source": []
  }
 ],
 "metadata": {
  "anaconda-cloud": {},
  "kernelspec": {
   "display_name": "Python 3",
   "language": "python",
   "name": "python3"
  },
  "language_info": {
   "codemirror_mode": {
    "name": "ipython",
    "version": 3
   },
   "file_extension": ".py",
   "mimetype": "text/x-python",
   "name": "python",
   "nbconvert_exporter": "python",
   "pygments_lexer": "ipython3",
   "version": "3.6.4"
  }
 },
 "nbformat": 4,
 "nbformat_minor": 2
}
